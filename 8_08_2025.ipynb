{
  "nbformat": 4,
  "nbformat_minor": 0,
  "metadata": {
    "colab": {
      "provenance": [],
      "include_colab_link": true
    },
    "kernelspec": {
      "name": "python3",
      "display_name": "Python 3"
    },
    "language_info": {
      "name": "python"
    }
  },
  "cells": [
    {
      "cell_type": "markdown",
      "metadata": {
        "id": "view-in-github",
        "colab_type": "text"
      },
      "source": [
        "<a href=\"https://colab.research.google.com/github/Samuelperez29/Menjos_Fechas_while/blob/main/8_08_2025.ipynb\" target=\"_parent\"><img src=\"https://colab.research.google.com/assets/colab-badge.svg\" alt=\"Open In Colab\"/></a>"
      ]
    },
    {
      "cell_type": "code",
      "execution_count": null,
      "metadata": {
        "colab": {
          "base_uri": "https://localhost:8080/"
        },
        "id": "TUuiogM7KWbx",
        "outputId": "39f81b3b-21f1-49ec-9d80-91efed99a6f1"
      },
      "outputs": [
        {
          "output_type": "stream",
          "name": "stdout",
          "text": [
            "0\n",
            "1\n",
            "2\n",
            "3\n",
            "4\n",
            "5\n",
            "6\n",
            "7\n",
            "8\n",
            "9\n",
            "Tiempo transcurrido while: 0.00020360946655273438\n",
            "0\n",
            "1\n",
            "2\n",
            "3\n",
            "4\n",
            "5\n",
            "6\n",
            "7\n",
            "8\n",
            "9\n",
            "Tiempo transcurrido for: 9.703636169433594e-05\n",
            "el sistema operativo es otro win 64\n"
          ]
        }
      ],
      "source": [
        "#  ciclo while\n",
        "import time\n",
        "import os # manejo de sistemas operativo\n",
        "import sys # liberia de manejo de sistemas comando bat\n",
        "# este algoritmo lo que hace es medir el tiempo de ejecucion de un ciclo while y un ciclo for\n",
        "# para ver cual es mas rapido\n",
        "inicio= time.time()# tiempo de ejecucion  esta capturando el tiempo\n",
        "contador =0 # contador\n",
        "while contador < 10: # controlando el ciclo, es decir repitiendo hasta que\n",
        "# se cumpla la condicion\n",
        "    print(contador) # imprime el valor que tiene el contador\n",
        "    #por cada rotacion del ciclo\n",
        "    contador += 1# incrementa el contador\n",
        "fin= time.time()# toma el tiempo que finalizo en contador\n",
        "print(\"Tiempo transcurrido while:\", fin-inicio)\n",
        "inicio= time.time()# tiempo de ejecucion\n",
        "for contador in range(10):\n",
        "    print(contador)\n",
        "fin= time.time()\n",
        "print(\"Tiempo transcurrido for:\", fin-inicio)\n",
        "if sys.platform == \"win32\":\n",
        "    print (\"el sistemas operativo win 32\")\n",
        "    os.system('cls')\n",
        "else:\n",
        "    print(\"el sistema operativo es otro win 64\")\n",
        "    os.system('clear')"
      ]
    },
    {
      "cell_type": "code",
      "source": [
        "# manejo de fecha\n",
        "from  datetime import datetime as dt # esta libreria puede servir para captura de fechas\n",
        "#dt es abrviacion de datetime\n",
        "fecha = dt.now()# esta capturando la fecha actual\n",
        "print(\"fecha actual \", fecha)"
      ],
      "metadata": {
        "colab": {
          "base_uri": "https://localhost:8080/"
        },
        "id": "iMqpmj1LOWhz",
        "outputId": "30a2f2ec-607d-42c5-f1a6-1e320121b8d3"
      },
      "execution_count": null,
      "outputs": [
        {
          "output_type": "stream",
          "name": "stdout",
          "text": [
            "fecha actual  2025-08-08 20:48:25.050980\n"
          ]
        }
      ]
    },
    {
      "cell_type": "markdown",
      "source": [
        "https://docs.python.org/3/library/datetime.html"
      ],
      "metadata": {
        "id": "HQqm90LPmoql"
      }
    },
    {
      "cell_type": "code",
      "source": [
        "from datetime import datetime as dt\n",
        "fecha = dt.now()\n",
        "# generar un formato personalizado dia mes y año\n",
        "print(fecha.strftime(\"%d/%m/%Y\"))\n",
        "# %d dia\n",
        "#%m mes\n",
        "# Y año\n",
        "# formato texto o nombre del  de la fecha\n",
        "# %A estod dicioendo el nombre del dia ejemplo HOy es vernes, muestra viernes\n",
        "# %B es el nombre del mes ejemplo AGOSTO\n",
        "print(fecha.strftime(\"%A,%d de %B de %Y\" ))\n",
        "print(fecha.strftime(\"%H:%M:%S\"))\n",
        "\n"
      ],
      "metadata": {
        "colab": {
          "base_uri": "https://localhost:8080/"
        },
        "id": "_u_jq26tlv68",
        "outputId": "b25b3d7f-6430-424b-ef75-5fb9a4790a74"
      },
      "execution_count": null,
      "outputs": [
        {
          "output_type": "stream",
          "name": "stdout",
          "text": [
            "08/08/2025\n",
            "Friday,08 de August de 2025\n",
            "20H:48:25\n"
          ]
        }
      ]
    },
    {
      "cell_type": "code",
      "source": [
        "contador = 1\n",
        "while True:\n",
        "    if contador == 10:\n",
        "        print(\"cumplio el ciclo\", contador)\n",
        "        break\n",
        "    contador+=1"
      ],
      "metadata": {
        "colab": {
          "base_uri": "https://localhost:8080/"
        },
        "id": "dwMfEV_ogIcC",
        "outputId": "d0a903dc-ce4d-4c40-c9b2-d386d5f22b8d"
      },
      "execution_count": 1,
      "outputs": [
        {
          "output_type": "stream",
          "name": "stdout",
          "text": [
            "cumplio el ciclo 10\n"
          ]
        }
      ]
    },
    {
      "cell_type": "markdown",
      "source": [],
      "metadata": {
        "id": "d25zDJjqmFQo"
      }
    },
    {
      "cell_type": "markdown",
      "source": [
        "controlar cicloc on breck y  booleanos"
      ],
      "metadata": {
        "id": "s36zB2YoqNqw"
      }
    },
    {
      "cell_type": "code",
      "source": [
        "palabra=\"hola mundO\"\n",
        "palabra.title()\n",
        "print(f\"{palabra.title()}\")\n"
      ],
      "metadata": {
        "id": "V1QqMI_8qSoX",
        "colab": {
          "base_uri": "https://localhost:8080/"
        },
        "outputId": "9347c1a4-c567-411f-d559-f296f388d937"
      },
      "execution_count": 5,
      "outputs": [
        {
          "output_type": "stream",
          "name": "stdout",
          "text": [
            "Hola Mundo\n"
          ]
        }
      ]
    },
    {
      "cell_type": "markdown",
      "source": [
        "https://mimo.org/glossary/python/datetime"
      ],
      "metadata": {
        "id": "O3gcyA8sm8g_"
      }
    }
  ]
}